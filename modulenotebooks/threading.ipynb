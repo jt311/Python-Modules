{
 "cells": [
  {
   "attachments": {},
   "cell_type": "markdown",
   "metadata": {},
   "source": [
    "## Concurrent Execution ##\n",
    "\n",
    "+ Run code concurrently on multiple threads (run multiple tasks on CPU with switching)\n",
    "+ Suitable for IO Bound tasks (while IO resources are being fetched)\n",
    "    + Reading/Writing from/to Network\n",
    "    + DB Calls\n",
    "    + Reading/Writing files to disk"
   ]
  },
  {
   "cell_type": "code",
   "execution_count": 4,
   "metadata": {},
   "outputs": [],
   "source": [
    "import threading\n",
    "import concurrent.futures"
   ]
  },
  {
   "attachments": {},
   "cell_type": "markdown",
   "metadata": {},
   "source": [
    "### Threading Module ###\n",
    "\n",
    "+ original method"
   ]
  },
  {
   "cell_type": "code",
   "execution_count": 3,
   "metadata": {},
   "outputs": [
    {
     "name": "stdout",
     "output_type": "stream",
     "text": [
      "First function sleeping...\n",
      "Second function sleeping...\n",
      "Completed first function\n",
      "Completed second function\n",
      "Finished in 1.01 second(s)\n"
     ]
    }
   ],
   "source": [
    "import time\n",
    "\n",
    "start = time.perf_counter()\n",
    "\n",
    "def rand_func(num):\n",
    "    print('First function sleeping...')\n",
    "    time.sleep(num)\n",
    "    print('Completed first function')\n",
    "\n",
    "def rand_func2(num):\n",
    "    print('Second function sleeping...')\n",
    "    time.sleep(num)\n",
    "    print('Completed second function')\n",
    "\n",
    "t1 = threading.Thread(target = rand_func, args=[1])\n",
    "t2 = threading.Thread(target = rand_func2, args=[1])\n",
    "\n",
    "t1.start()\n",
    "t2.start()\n",
    "t1.join()\n",
    "t2.join()\n",
    "\n",
    "finish = time.perf_counter()\n",
    "\n",
    "print(f'Finished in {round(finish-start, 2)} second(s)')"
   ]
  },
  {
   "attachments": {},
   "cell_type": "markdown",
   "metadata": {},
   "source": [
    "### Concurrent Futures Module ###\n",
    "\n",
    "+ newer method that uses a pool of threads to execute calls asynchronously (waits for threads to execute)\n",
    "+ executor.submit() --> execute function once at a time: schedules a function to be executed and returns a Future object\n",
    "+ executor.map() --> executes function with every item in iterable concurrently on seperate threads: returns results in order of execution\n",
    "\n",
    "+ FutureInstance.result() --> allows you to retrieve returned value from executed function\n",
    "+ concurrent.futures.as_completed(fs = iterable containing Future instances) --> returns an iterator over the Future instances in fs (yields future as it completes)\n"
   ]
  },
  {
   "cell_type": "code",
   "execution_count": 5,
   "metadata": {},
   "outputs": [
    {
     "name": "stdout",
     "output_type": "stream",
     "text": [
      "First function sleeping for 1 second(s)\n",
      "First function sleeping for 1 second(s)First function sleeping for 1 second(s)\n",
      "First function sleeping for 1 second(s)\n",
      "\n",
      "First function sleeping for 1 second(s)\n",
      "First function sleeping for 1 second(s)\n",
      "First function sleeping for 1 second(s)\n",
      "First function sleeping for 1 second(s)\n",
      "First function sleeping for 1 second(s)Completed first function\n",
      "\n",
      "First function sleeping for 1 second(s)Completed first function\n",
      "\n",
      "Completed first function\n",
      "Completed first function\n",
      "Completed first function\n",
      "Completed first function\n",
      "Completed first function\n",
      "Completed first function\n",
      "Completed first function\n",
      "Completed first function\n",
      "Finished in 2.02 second(s)\n"
     ]
    }
   ],
   "source": [
    "startCF = time.perf_counter()\n",
    "\n",
    "def rand_func(num):\n",
    "    print(f'First function sleeping for {num} second(s)')\n",
    "    time.sleep(num)\n",
    "    return 'Completed first function'\n",
    "\n",
    "with concurrent.futures.ThreadPoolExecutor() as executor:\n",
    "    future_instances = [executor.submit(rand_func, 1) for _ in range(10)]\n",
    "    for f in concurrent.futures.as_completed(future_instances):\n",
    "        print(f.result())\n",
    "\n",
    "finishCF = time.perf_counter()\n",
    "\n",
    "print(f'Finished in {round(finishCF-startCF, 2)} second(s)')"
   ]
  },
  {
   "cell_type": "code",
   "execution_count": 25,
   "metadata": {},
   "outputs": [
    {
     "name": "stdout",
     "output_type": "stream",
     "text": [
      "First function sleeping for 5 second(s)First function sleeping for 4 second(s)\n",
      "\n",
      "First function sleeping for 3 second(s)\n",
      "First function sleeping for 2 second(s)\n",
      "First function sleeping for 1 second(s)\n",
      "Completed first function in 5 second(s)\n",
      "Completed first function in 4 second(s)\n",
      "Completed first function in 3 second(s)\n",
      "Completed first function in 2 second(s)\n",
      "Completed first function in 1 second(s)\n",
      "Finished in 5.01 second(s)\n"
     ]
    }
   ],
   "source": [
    "startCF = time.perf_counter()\n",
    "\n",
    "def rand_func(num):\n",
    "    print(f'First function sleeping for {num} second(s)')\n",
    "    time.sleep(num)\n",
    "    return f'Completed first function in {num} second(s)'\n",
    "\n",
    "with concurrent.futures.ThreadPoolExecutor() as executor:\n",
    "    secs = reversed(range(1,6))\n",
    "    results = executor.map(rand_func, secs)\n",
    "    for x in results: print(x)\n",
    "\n",
    "finishCF = time.perf_counter()\n",
    "\n",
    "print(f'Finished in {round(finishCF-startCF, 2)} second(s)')"
   ]
  }
 ],
 "metadata": {
  "kernelspec": {
   "display_name": "base",
   "language": "python",
   "name": "python3"
  },
  "language_info": {
   "codemirror_mode": {
    "name": "ipython",
    "version": 3
   },
   "file_extension": ".py",
   "mimetype": "text/x-python",
   "name": "python",
   "nbconvert_exporter": "python",
   "pygments_lexer": "ipython3",
   "version": "3.9.12"
  },
  "orig_nbformat": 4,
  "vscode": {
   "interpreter": {
    "hash": "fa0fc083a9a7b25dab36cbe71fb89b2f1907d4eced1698b208dea6977346b521"
   }
  }
 },
 "nbformat": 4,
 "nbformat_minor": 2
}
