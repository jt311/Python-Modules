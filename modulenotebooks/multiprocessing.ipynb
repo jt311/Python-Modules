{
 "cells": [
  {
   "attachments": {},
   "cell_type": "markdown",
   "metadata": {},
   "source": [
    "## Mulitprocessing: Parallelism ##\n",
    "\n",
    "+ Run code in parallel at the same time on multiple processors\n",
    "+ Suitable for CPU-Bound tasks (computationally expensive)\n",
    "    + Data Preproocessing\n",
    "    + Image Resizing"
   ]
  },
  {
   "cell_type": "code",
   "execution_count": 1,
   "metadata": {},
   "outputs": [],
   "source": [
    "import concurrent.futures\n",
    "import time"
   ]
  },
  {
   "attachments": {},
   "cell_type": "markdown",
   "metadata": {},
   "source": [
    "### Concurrent Futures Module ###\n",
    "\n",
    "+ newer method that uses a pool of processes to execute calls asynchronously\n",
    "+ executor.submit() --> execute function once at a time: schedules a function to be executed and returns a Future object\n",
    "+ executor.map() --> executes function with every item in iterable in parallel via mulitple processes: returns results in order of execution\n",
    "\n",
    "+ FutureInstance.result() --> allows you to retrieve returned value from executed function\n",
    "+ concurrent.futures.as_completed(fs = iterable containing Future instances) --> returns an iterator over the Future instances in fs (yields future as it completes)"
   ]
  },
  {
   "cell_type": "code",
   "execution_count": 2,
   "metadata": {},
   "outputs": [
    {
     "name": "stdout",
     "output_type": "stream",
     "text": [
      "First function sleeping for 1 second(s)\n",
      "First function sleeping for 1 second(s)\n",
      "First function sleeping for 1 second(s)\n",
      "First function sleeping for 1 second(s)\n",
      "First function sleeping for 1 second(s)\n",
      "Completed first function in 1 second(s)\n",
      "First function sleeping for 1 second(s)\n",
      "Completed first function in 1 second(s)\n",
      "First function sleeping for 1 second(s)\n",
      "Completed first function in 1 second(s)\n",
      "First function sleeping for 1 second(s)\n",
      "Completed first function in 1 second(s)\n",
      "First function sleeping for 1 second(s)\n",
      "Completed first function in 1 second(s)\n",
      "First function sleeping for 1 second(s)\n",
      "Completed first function in 1 second(s)\n",
      "Completed first function in 1 second(s)\n",
      "Completed first function in 1 second(s)\n",
      "Completed first function in 1 second(s)\n",
      "Completed first function in 1 second(s)\n",
      "Finished in 3.31 second(s)\n"
     ]
    }
   ],
   "source": [
    "from test import rand_func\n",
    "\n",
    "startCF = time.perf_counter()\n",
    "\n",
    "with concurrent.futures.ProcessPoolExecutor() as executor:\n",
    "    results = [executor.submit(rand_func, 1) for _ in range(10)]\n",
    "    for f in concurrent.futures.as_completed(results): print(f.result())\n",
    "\n",
    "finishCF = time.perf_counter()\n",
    "print(f'Finished in {round(finishCF-startCF, 2)} second(s)')"
   ]
  },
  {
   "cell_type": "code",
   "execution_count": 2,
   "metadata": {},
   "outputs": [
    {
     "name": "stdout",
     "output_type": "stream",
     "text": [
      "First function sleeping for 4 second(s)\n",
      "First function sleeping for 3 second(s)\n",
      "First function sleeping for 2 second(s)\n",
      "First function sleeping for 1 second(s)\n",
      "First function sleeping for 0 second(s)\n",
      "Completed first function in 4 second(s)\n",
      "Completed first function in 3 second(s)\n",
      "Completed first function in 2 second(s)\n",
      "Completed first function in 1 second(s)\n",
      "Completed first function in 0 second(s)\n",
      "Finished in 4.31 second(s)\n"
     ]
    }
   ],
   "source": [
    "from test import rand_func\n",
    "startCF = time.perf_counter()\n",
    "\n",
    "with concurrent.futures.ProcessPoolExecutor() as executor:\n",
    "    results = executor.map(rand_func, reversed(range(5)))\n",
    "    for x in results: print(x)\n",
    "\n",
    "finishCF = time.perf_counter()\n",
    "print(f'Finished in {round(finishCF-startCF, 2)} second(s)')"
   ]
  },
  {
   "cell_type": "code",
   "execution_count": 2,
   "metadata": {},
   "outputs": [
    {
     "name": "stdout",
     "output_type": "stream",
     "text": [
      "[(11227253, False), (112582705942171, True), (112272535095293, True), (115280095190773, True), (115797848077099, True), (1099726899285419, False)]\n",
      "Finished in 4.08 second(s)\n"
     ]
    }
   ],
   "source": [
    "from prime import is_prime\n",
    "startCF= time.perf_counter()\n",
    "\n",
    "PRIME_CANDIDATES = [\n",
    "    11227253,\n",
    "    112582705942171,\n",
    "    112272535095293,\n",
    "    115280095190773,\n",
    "    115797848077099,\n",
    "    1099726899285419\n",
    "]\n",
    "\n",
    "with concurrent.futures.ProcessPoolExecutor() as executor:\n",
    "    print([(number, primeStatus) for number, primeStatus in zip(PRIME_CANDIDATES, executor.map(is_prime, PRIME_CANDIDATES))])\n",
    "\n",
    "finishCF = time.perf_counter()\n",
    "print(f'Finished in {round(finishCF-startCF, 2)} second(s)')"
   ]
  }
 ],
 "metadata": {
  "kernelspec": {
   "display_name": "base",
   "language": "python",
   "name": "python3"
  },
  "language_info": {
   "codemirror_mode": {
    "name": "ipython",
    "version": 3
   },
   "file_extension": ".py",
   "mimetype": "text/x-python",
   "name": "python",
   "nbconvert_exporter": "python",
   "pygments_lexer": "ipython3",
   "version": "3.9.12"
  },
  "orig_nbformat": 4,
  "vscode": {
   "interpreter": {
    "hash": "fa0fc083a9a7b25dab36cbe71fb89b2f1907d4eced1698b208dea6977346b521"
   }
  }
 },
 "nbformat": 4,
 "nbformat_minor": 2
}
