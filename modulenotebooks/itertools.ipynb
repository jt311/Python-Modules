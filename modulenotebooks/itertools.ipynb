{
 "cells": [
  {
   "attachments": {},
   "cell_type": "markdown",
   "metadata": {},
   "source": [
    "# Itertools #\n",
    "\n",
    "+ Iterator: object that can be iterated upon + implements the iterator protocol\n",
    "    + Iterator Protocol = methods iter() and next() OR __iter__() and __next__()"
   ]
  },
  {
   "cell_type": "code",
   "execution_count": 26,
   "metadata": {},
   "outputs": [],
   "source": [
    "import itertools\n",
    "import operator"
   ]
  },
  {
   "attachments": {},
   "cell_type": "markdown",
   "metadata": {},
   "source": [
    "## Iterator Protocol ##"
   ]
  },
  {
   "cell_type": "code",
   "execution_count": 20,
   "metadata": {},
   "outputs": [
    {
     "name": "stdout",
     "output_type": "stream",
     "text": [
      "5\n"
     ]
    }
   ],
   "source": [
    "newList = [3, 5, 6, 7, 8]\n",
    "iter1 = iter(newList)\n",
    "first = next(iter1)\n",
    "second = next(iter1)\n",
    "third = next(iter1)"
   ]
  },
  {
   "cell_type": "code",
   "execution_count": 22,
   "metadata": {},
   "outputs": [
    {
     "name": "stdout",
     "output_type": "stream",
     "text": [
      "1\n",
      "2\n",
      "3\n",
      "4\n",
      "5\n",
      "6\n",
      "7\n",
      "8\n",
      "9\n",
      "10\n"
     ]
    }
   ],
   "source": [
    "rangeList = range(1, 11)\n",
    "rangeIter = iter(rangeList)\n",
    "while True:\n",
    "    try:\n",
    "        print(next(rangeIter))\n",
    "    except StopIteration:\n",
    "        break"
   ]
  },
  {
   "attachments": {},
   "cell_type": "markdown",
   "metadata": {},
   "source": [
    "## Count, ZipLongest Methods ##\n",
    "\n",
    "+ itertools.count() ==> returns evenly spaced values starting with number start and incrementing by step (infinite)\n",
    "+ Built-in zip() function ==> aggregates values from iterables until SHORTEST iterable is exhausted\n",
    "+ itertools.zip_longest() ==> aggregates values from iterables until LONGEST iterable is exhausted, fills in values for shorter iterable"
   ]
  },
  {
   "cell_type": "code",
   "execution_count": 41,
   "metadata": {},
   "outputs": [
    {
     "name": "stdout",
     "output_type": "stream",
     "text": [
      "10\n",
      "12\n",
      "14\n",
      "16\n",
      "18\n",
      "20\n"
     ]
    }
   ],
   "source": [
    "counter = itertools.count(10, 2)\n",
    "currNum = next(counter)\n",
    "while currNum <= 20:\n",
    "    print(currNum)\n",
    "    currNum = next(counter)"
   ]
  },
  {
   "cell_type": "code",
   "execution_count": 47,
   "metadata": {},
   "outputs": [
    {
     "name": "stdout",
     "output_type": "stream",
     "text": [
      "[(10, 100), (0, 200), (-10, 300), (-20, 400), (-30, 500)]\n"
     ]
    }
   ],
   "source": [
    "newData = [100, 200, 300, 400, 500]\n",
    "pairedData = list(zip(itertools.count(start=10, step=-10), newData))"
   ]
  },
  {
   "cell_type": "code",
   "execution_count": 50,
   "metadata": {},
   "outputs": [
    {
     "name": "stdout",
     "output_type": "stream",
     "text": [
      "[(100, 0), (200, 1), (300, 2), (400, 3), (500, 4), (None, 5), (None, 6), (None, 7), (None, 8), (None, 9)]\n"
     ]
    }
   ],
   "source": [
    "zipLongestData = list(itertools.zip_longest(newData, range(10), fillvalue=None))\n",
    "print(zipLongestData)"
   ]
  },
  {
   "attachments": {},
   "cell_type": "markdown",
   "metadata": {},
   "source": [
    "## Cycle, Repeat, Starmap Method ##\n",
    "\n",
    "+ itertools.cycle() ==> cycles through iterable infinitely\n",
    "+ itertools.repeat() ==> repeats input value infinitely or n times ==> supply a stream of constant values to map or zip\n",
    "+ itertools.starmap() ==> similar to map, used when argument parameters are already grouped in tuples"
   ]
  },
  {
   "cell_type": "code",
   "execution_count": 71,
   "metadata": {},
   "outputs": [
    {
     "data": {
      "text/plain": [
       "[1, 4, 9, 16, 25]"
      ]
     },
     "execution_count": 71,
     "metadata": {},
     "output_type": "execute_result"
    }
   ],
   "source": [
    "newCycle = itertools.cycle([\"A\", \"B\"])\n",
    "newMap = list(map(pow, range(1,6), itertools.repeat(2)))\n",
    "newStarmap = itertools.starmap(pow, zip(range(1,6), itertools.repeat(2))) ## (1,2), (2,2), (3,2), (4,2), (5,2)\n",
    "list(newStarmap)"
   ]
  },
  {
   "attachments": {},
   "cell_type": "markdown",
   "metadata": {},
   "source": [
    "##  Combinations, Permutations, Cartesian Product Methods ##\n",
    "\n",
    "+ itertools.combinations() ==> r-length tuples in sorted order + order does not matter\n",
    "+ itertools.permutations() ==> r-length tuples + order does matter (all possible orderings eg. \"AB\", \"BA\")\n",
    "+ itertools.product() ==> cartesian product between two sets (repeat=n for cartesian product with set itself with n instances of set)\n",
    "+ itertools.combinations_with_replacement() ==> r-length tuples in sorted order with repeated elements (eg, \"AA\", \"BB\")"
   ]
  },
  {
   "cell_type": "code",
   "execution_count": 62,
   "metadata": {},
   "outputs": [
    {
     "name": "stdout",
     "output_type": "stream",
     "text": [
      "[('A', 'A'), ('A', 'B'), ('A', 'C'), ('A', 'D'), ('A', 'E'), ('B', 'A'), ('B', 'B'), ('B', 'C'), ('B', 'D'), ('B', 'E'), ('C', 'A'), ('C', 'B'), ('C', 'C'), ('C', 'D'), ('C', 'E'), ('D', 'A'), ('D', 'B'), ('D', 'C'), ('D', 'D'), ('D', 'E'), ('E', 'A'), ('E', 'B'), ('E', 'C'), ('E', 'D'), ('E', 'E')]\n"
     ]
    }
   ],
   "source": [
    "data = [x for x in range(3)] ## 0,1,2\n",
    "newCombinations = itertools.combinations([\"B\", \"G\", \"F\"], 2)\n",
    "newCombinationsRep = itertools.combinations_with_replacement(data, 2)\n",
    "newPermutations = itertools.permutations(data, len(data))\n",
    "newProduct = itertools.product(data, [\"A\", \"B\", \"C\", \"D\", \"E\"])\n",
    "newSelfProduct = itertools.product([\"A\", \"B\", \"C\", \"D\", \"E\"], repeat=2)"
   ]
  },
  {
   "attachments": {},
   "cell_type": "markdown",
   "metadata": {},
   "source": [
    "## Chain Method ##\n",
    "\n",
    "+ itertools.chain() ==> chains together iterables and loops through each iterable when previous has been exhausted"
   ]
  },
  {
   "cell_type": "code",
   "execution_count": 4,
   "metadata": {},
   "outputs": [
    {
     "name": "stdout",
     "output_type": "stream",
     "text": [
      "[0, 1, 2, 3, 'A', 'B', 'C', 'D', 'ABC', 'DEF']\n"
     ]
    }
   ],
   "source": [
    "iterable1 = range(4)\n",
    "iterable2 = [\"A\", \"B\", \"C\", \"D\"]\n",
    "iterable3 = [\"ABC\", \"DEF\"]\n",
    "\n",
    "chainIterable = itertools.chain(iterable1, iterable2, iterable3)\n",
    "print(list(chainIterable))"
   ]
  },
  {
   "attachments": {},
   "cell_type": "markdown",
   "metadata": {},
   "source": [
    "## iSlice Method ##\n",
    "\n",
    "+ itertools.islice() ==> slices an iterable from start to stop index (if stop = None, iterates until iterable is exhausted)\n",
    "    + useful for extracting related fields from data where internal structure is flattened (eg, multi-line report may contain a name field on every third line)\n",
    "    + step ==> slice between start and stop index and returns value at every step"
   ]
  },
  {
   "cell_type": "code",
   "execution_count": 10,
   "metadata": {},
   "outputs": [
    {
     "name": "stdout",
     "output_type": "stream",
     "text": [
      "[6, 7, 8, 9, 10, 11]\n"
     ]
    }
   ],
   "source": [
    "dataRange = range(20)\n",
    "iSliceIterable = itertools.islice(dataRange, 6, 12) ##start = 6, stop = 10 (end of iterable), step = 2\n",
    "print(list(iSliceIterable))"
   ]
  },
  {
   "attachments": {},
   "cell_type": "markdown",
   "metadata": {},
   "source": [
    "## Compress, FilterFalse Methods ##\n",
    "\n",
    "+ itertools.compress() ==> returns an iterable that filters elements from iterable that have corresponding element in selectors that evaluates to TRUE\n",
    "    + stops when either iterable or selectors has been exhausted\n",
    "\n",
    "+ filter() built-in function ==> returns an iterable containing all values in data that return TRUE when passed into function\n",
    "+ itertools.filterfalse() ==> returns an iterable containing all values in data that return FALSE when passed into function"
   ]
  },
  {
   "cell_type": "code",
   "execution_count": 14,
   "metadata": {},
   "outputs": [
    {
     "name": "stdout",
     "output_type": "stream",
     "text": [
      "['B', 'D']\n"
     ]
    }
   ],
   "source": [
    "dataToCompress = [\"A\", \"B\", \"C\", \"D\"]\n",
    "selectors = [True, False, False, True]\n",
    "newCompress = itertools.compress(dataToCompress, selectors)\n",
    "newFilter = filter(lambda x: x in [\"A\", \"C\"], dataToCompress)\n",
    "newFilterFalse = itertools.filterfalse(lambda x: x in [\"A\", \"C\"], dataToCompress)"
   ]
  },
  {
   "attachments": {},
   "cell_type": "markdown",
   "metadata": {},
   "source": [
    "## DropWhile, TakeWhile Methods ##\n",
    "\n",
    "+ itertools.dropwhile() ==> returns an iterator that drops values from iterable that return TRUE until function returns FALSE, then returns every value after\n",
    "+ itertools.takewhile() ==> returns an iterator with values from iterable that evaluate to TRUE in function, then drops every value after a FALSE value "
   ]
  },
  {
   "cell_type": "code",
   "execution_count": 37,
   "metadata": {},
   "outputs": [
    {
     "name": "stdout",
     "output_type": "stream",
     "text": [
      "elloworld\n"
     ]
    }
   ],
   "source": [
    "newNumRange = [0,1,2,3,4,5,6,3,4]\n",
    "newDropwhile = itertools.dropwhile(lambda x: x<=4, newNumRange)\n",
    "newTakewhile = itertools.takewhile(lambda x: x<=4, newNumRange)\n",
    "newstring = \"helloworld\"\n",
    "newdropstr = itertools.dropwhile(lambda x: x in [\"h\", \"l\", \"o\"], newstring)"
   ]
  },
  {
   "attachments": {},
   "cell_type": "markdown",
   "metadata": {},
   "source": [
    "## Accumulate Method ##\n",
    "\n",
    "+ itertools.accumulate() ==> returns an iterable of accumulated sums\n",
    "    + func argument ==> defauls to addition; also used to return accumulated results of other binary functions (multiplication, max, min)\n",
    "    + initial argument ==> specifies an initial value to start at, then starts accumulating (adds an extra initial element to output iterable)"
   ]
  },
  {
   "cell_type": "code",
   "execution_count": 35,
   "metadata": {},
   "outputs": [
    {
     "name": "stdout",
     "output_type": "stream",
     "text": [
      "[3, 5, 6, 6, 6]\n"
     ]
    }
   ],
   "source": [
    "accData = [3, 5, 6, 4, 2]\n",
    "newSum = itertools.accumulate(accData, func=operator.add, initial=50)\n",
    "newAccProduct = itertools.accumulate(accData, func=operator.mul, initial=2)\n",
    "newAccMax = itertools.accumulate(accData, func=max, initial=None)"
   ]
  },
  {
   "attachments": {},
   "cell_type": "markdown",
   "metadata": {},
   "source": [
    "## GroupBy Method ##\n",
    "\n",
    "+ itertools.groupby() ==> returns consecutive keys and groups matching key from an iterable (must be sorted)\n",
    "    + key = Function computing key value for each element\n",
    "    + returns an iterator of tuples as (key, group); where group is an iterator of all items belonging to key\n",
    "    + generates a break/new group every time value of key function changes\n",
    "    + key == None ==> uses element as key"
   ]
  },
  {
   "cell_type": "code",
   "execution_count": 54,
   "metadata": {},
   "outputs": [
    {
     "name": "stdout",
     "output_type": "stream",
     "text": [
      "[('A', 2), ('B', 2), ('C', 2)]\n"
     ]
    }
   ],
   "source": [
    "newStr = \"AAAAABBBBCCCCAA\"\n",
    "newGroup = itertools.groupby(sorted(newStr), key=None)\n",
    "groupList = [(key, len((list(group)))) for key, group in newGroup]\n",
    "\n",
    "## Group all tuples with first value 'A' (key)\n",
    "newTuples = [('A', 30), ('A', 40), ('B', 30), ('C', 24), ('A', 50)]\n",
    "tupleGroupby = itertools.groupby(sorted(newTuples, key=lambda x: x[0]), key=lambda x: x[0])\n",
    "tupleGroupsKeys = [(key, list(group)) for key, group in tupleGroupby]\n",
    "\n",
    "## Group all hashmaps that belong to a specific key\n",
    "students = [\n",
    "    {\"mark\": 90, \"grade\": 'A'},\n",
    "    {\"mark\": 80, \"grade\": 'B'},\n",
    "    {\"mark\": 64, \"grade\": 'C'},\n",
    "    {\"mark\": 94, \"grade\": 'A'},\n",
    "    {\"mark\": 55, \"grade\": 'C'},\n",
    "    {\"mark\": 82, \"grade\": 'B'},\n",
    "]\n",
    "\n",
    "dictGroupby = itertools.groupby(sorted(students, key=lambda x: x[\"grade\"]), key=lambda x: x[\"grade\"])\n",
    "dictGroupsList = [(key, len(list(group))) for key, group in dictGroupby]\n",
    "print(dictGroupsList)"
   ]
  },
  {
   "attachments": {},
   "cell_type": "markdown",
   "metadata": {},
   "source": [
    "## Tee Method ##\n",
    "\n",
    "+ itertools.tee() ==> returns n independent iterators from a single iterable (copies of original iterable) (default = 2 copies)\n",
    "    + original iterator should no longer be used (use copies)\n"
   ]
  },
  {
   "cell_type": "code",
   "execution_count": 59,
   "metadata": {},
   "outputs": [
    {
     "name": "stdout",
     "output_type": "stream",
     "text": [
      "[0, 1, 2, 3, 4, 5, 6, 7, 8, 9, 10, 11, 12, 13, 14] <itertools._tee object at 0x7f94da1abc00>\n"
     ]
    }
   ],
   "source": [
    "teeIter = range(15)\n",
    "copy1, copy2 = itertools.tee(teeIter)\n",
    "print(list(copy1), copy2)"
   ]
  }
 ],
 "metadata": {
  "kernelspec": {
   "display_name": "Python 3",
   "language": "python",
   "name": "python3"
  },
  "language_info": {
   "codemirror_mode": {
    "name": "ipython",
    "version": 3
   },
   "file_extension": ".py",
   "mimetype": "text/x-python",
   "name": "python",
   "nbconvert_exporter": "python",
   "pygments_lexer": "ipython3",
   "version": "3.9.12 (main, Apr  5 2022, 01:53:17) \n[Clang 12.0.0 ]"
  },
  "orig_nbformat": 4,
  "vscode": {
   "interpreter": {
    "hash": "fa0fc083a9a7b25dab36cbe71fb89b2f1907d4eced1698b208dea6977346b521"
   }
  }
 },
 "nbformat": 4,
 "nbformat_minor": 2
}
