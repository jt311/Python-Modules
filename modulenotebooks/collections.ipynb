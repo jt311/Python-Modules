{
 "cells": [
  {
   "attachments": {},
   "cell_type": "markdown",
   "metadata": {},
   "source": [
    "# Collections #"
   ]
  },
  {
   "cell_type": "code",
   "execution_count": 1,
   "metadata": {},
   "outputs": [],
   "source": [
    "import collections"
   ]
  },
  {
   "attachments": {},
   "cell_type": "markdown",
   "metadata": {},
   "source": [
    "## Counter DataType ##\n",
    "\n",
    "+ collections.Counter ==> returns a Counter object (dict subclass) for counting hashable objects\n",
    "    + stores elements from iterable/mapping as dict keys + counts as dict values\n",
    "\n",
    "    + counterInstance.elements() ==> returns an iterator over elements repeating each element as many times as its count\n",
    "    \n",
    "    + counterInstance.most_common(n) ==> returns a list of n most common elements with their counts (elements with equals counts ordered in order first encountered)\n",
    "\n",
    "    + counterInstance.items() ==> converts counter object to a list of (elem, count) pairs\n",
    "\n",
    "    + sum(counterInstance.values()) ==> sum of counts\n",
    "\n",
    "    + counterInstance.subtract(iterable or counter) ==> subtracts counts of elements with same key (returns mutated counterInstance) + includes negative values\n",
    "\n",
    "+ Other Operations: \n",
    "    + Add Counter objects with + (add count values for elements with same key)\n",
    "    + Subtract Counter Objects with - (subtract count values for elements with same key + keeps positive values only)"
   ]
  },
  {
   "cell_type": "code",
   "execution_count": 57,
   "metadata": {},
   "outputs": [
    {
     "data": {
      "text/plain": [
       "['C', 4]"
      ]
     },
     "execution_count": 57,
     "metadata": {},
     "output_type": "execute_result"
    }
   ],
   "source": [
    "iter1 = [1,2,4,4,6,\"A\", \"B\", \"AB\", \"B\",\"C\",\"C\",\"C\"]\n",
    "iter2 = [1,1,3,4,\"A\", \"B\", \"C\", \"D\"]\n",
    "iter3 = [True, True, True, False, \"A\", \"A\"]\n",
    "\n",
    "def nMostCommonElements(counterObject: collections.Counter, n) -> list:\n",
    "    mostCommonPairs = counterObject.most_common(n)\n",
    "    return [pair[0] for pair in mostCommonPairs]\n",
    "\n",
    "currentCounter = collections.Counter(iter1)\n",
    "nMostCommonElements(currentCounter, 2)"
   ]
  },
  {
   "attachments": {},
   "cell_type": "markdown",
   "metadata": {},
   "source": [
    "## Deque DataType ##\n",
    "\n",
    "+ collections.deque(iterable) ==> deque object initialised left to right with data from iterable (deque is empty if iterable is not specified)\n",
    "    + Deque: generalisation of stacks and queues with O(1) pop and appendleft operations (list is O(n) for pop(0))\n",
    "\n",
    "    + append() ==> appends value to right side of deque\n",
    "    + appendleft() ==> appends value to left side of deque\n",
    "    + popleft() ==> removes leftmost item (queue functionality)\n",
    "    + pop() ==> removes rightmost item (stack functionality)\n",
    "    \n",
    "+ ... see docs for other methods"
   ]
  },
  {
   "cell_type": "code",
   "execution_count": 68,
   "metadata": {},
   "outputs": [
    {
     "data": {
      "text/plain": [
       "deque([4, 3, 2, 1, 0, 0, 1, 2, 3, 4, 5])"
      ]
     },
     "execution_count": 68,
     "metadata": {},
     "output_type": "execute_result"
    }
   ],
   "source": [
    "newDeque = collections.deque(range(6))\n",
    "newDeque.extendleft(list(range(5)))\n",
    "newDeque"
   ]
  },
  {
   "attachments": {},
   "cell_type": "markdown",
   "metadata": {},
   "source": [
    "## NamedTuple ##\n",
    " \n",
    "+ collections.namedtuple() ==> tuple-like objects that have named fields accessible by attribute lookup + indexable + iterable\n",
    "    + access fields by name instead of position index\n",
    "    + field_names = sequence of strings ['x', 'y']\n",
    "\n",
    "+ Methods:\n",
    "    + somenamedtuple._make() ==> makes a new instance of namedtuple from exising sequence/iterable\n",
    "    + somenamedtuple._asdict() ==> creates a dictionary that maps field names to their values\n",
    "    + somenamedtuple._replace() ==> returns a new instance of named tuple replaced specified fields with new values\n",
    "    + somenamedtuple._fields() ==> tuple of strings listing field names"
   ]
  },
  {
   "cell_type": "code",
   "execution_count": 87,
   "metadata": {},
   "outputs": [],
   "source": [
    "Point = collections.namedtuple('Point', ['x', 'y', 'z'])\n",
    "newPoint = Point(x=3, y=5, z=2)\n",
    "\n",
    "## Attribute Lookup by named fields\n",
    "newPoint.x, newPoint.y, newPoint.z\n",
    "\n",
    "## Unpack NamedTuple\n",
    "x,y,x = newPoint \n",
    "\n",
    "## Indexable\n",
    "newPoint[2]\n",
    "\n",
    "## Created a new namedtuple from an iterable\n",
    "newIter = [1,2,4]\n",
    "Point2 = Point._make(newIter) \n",
    "\n",
    "## Replace specific field of namedtuple\n",
    "updatedPoint = newPoint._replace(x=5)\n",
    "\n",
    "# Namedtuple as dict\n",
    "newPoint._asdict()\n",
    "\n",
    "# Use existing field names to create a new named tuple from an existing named tuple\n",
    "PointType2 = collections.namedtuple('PointType2', list(Point._fields) + ['w'])\n",
    "Point3 = PointType2(x=4, y=5, z=3, w=9)"
   ]
  },
  {
   "attachments": {},
   "cell_type": "markdown",
   "metadata": {},
   "source": [
    "## ChainMap ##\n",
    "\n",
    "+ collections.ChainMap() ==> groups multiple dicts together into a list to create a single updateable view.\n",
    "    + chainmap has similar functionality as dict ==> key-lookup, items(), values()\n",
    "    + duplicate keys between both maps ==> key-lookup returns first occurrence (also applies to iteration)\n",
    "    + supports mutations (update, add, delete, pop key-value pairs) ==> applies to first mapping only\n",
    "\n",
    "+ Utility:\n",
    "    + grouping multiple dictionaries in a single view efficiently\n",
    "    + providing a chain of default values and managing their priority\n",
    "    + manage and prioritise access to repeated keys using multiple scopes or contexts\n",
    "    + regular dictionaries can't store repeated keys (calling update with value for exising key = key is updated with new value)\n",
    "\n",
    "+ Additional Features:\n",
    "    + newchainmap.maps ==> ChainMap stores all input mappings in an internal list; can be accessed with maps attr (returns a list)\n",
    "        + can append/delete dicts from maps ==> updates original ChainMap instance + changes which mappings are searched\n",
    "        + can perform actions on each mapping (workaround to default behaviour of mutating only first mapping in list)\n",
    "        + can reverse list of maps\n",
    "\n",
    "    + newchainmap.new_child ==> returns a new ChainMap containing a new map followed by all maps in current instance\n",
    "        + create a subcontext that you can update without altering any of the existing mappings\n",
    "\n",
    "    + newchainmap.parent ==> returns a new ChainMap containing all maps in current instance except first one\n"
   ]
  },
  {
   "cell_type": "code",
   "execution_count": 39,
   "metadata": {},
   "outputs": [
    {
     "data": {
      "text/plain": [
       "ChainMap({'breed': 'German Sheperd', 'dog': False, 'age': 27}, {'age': 30, 'hello': False})"
      ]
     },
     "execution_count": 39,
     "metadata": {},
     "output_type": "execute_result"
    }
   ],
   "source": [
    "newDict1 = {\"age\": 30, \"hello\": False}\n",
    "newDict2 = {\"breed\": \"German Sheperd\", \"dog\": False, \"age\": 27}\n",
    "newChainMap = collections.ChainMap(newDict1, newDict2)\n",
    "\n",
    "## Maps attribute\n",
    "newChainMap.maps.append({\"cat\": \"luna\"})\n",
    "newChainMap.maps[-1]\n",
    "\n",
    "## reverse\n",
    "newChainMap.maps.reverse()\n",
    "\n",
    "#new_child\n",
    "newChildChainMap = newChainMap.new_child({\"child\": True})\n",
    "newChildChainMap.maps\n",
    "\n",
    "#parent\n",
    "newParentChainMap = newChainMap.parents\n",
    "newParentChainMap"
   ]
  },
  {
   "attachments": {},
   "cell_type": "markdown",
   "metadata": {},
   "source": [
    "## OrderedDict ##\n",
    "\n",
    "+ collections.OrderedDict() ==> behave like dictionaries with extra capabilites related to ordering operations.\n",
    "    + newOrderedDict.popitem(last=true) ==> returns and removes a (key,value) pair\n",
    "        + If last == True: pairs are returned in LIFO order\n",
    "        + last == False: pairs are returns in FIFO order\n",
    "\n",
    "\n",
    "    + newOrderedDict.move_to_end(key, last=True) ==> moves an existing key to EITHER end of an ordered dictionary\n",
    "        + If last == True: item is moved to right end\n",
    "        + last == False: item is moved to beginning"
   ]
  },
  {
   "cell_type": "code",
   "execution_count": 51,
   "metadata": {},
   "outputs": [
    {
     "data": {
      "text/plain": [
       "OrderedDict([('status', 'goat'), ('occupation', 'Developer'), ('age', 30)])"
      ]
     },
     "execution_count": 51,
     "metadata": {},
     "output_type": "execute_result"
    }
   ],
   "source": [
    "newOrderedDict = collections.OrderedDict({\"hello\": 2, \"age\": 30, \"status\": \"goat\"})\n",
    "newOrderedDict.popitem(last=False)\n",
    "newOrderedDict[\"occupation\"] = \"Developer\"\n",
    "newOrderedDict.move_to_end(\"age\", last=True)\n",
    "newOrderedDict"
   ]
  },
  {
   "attachments": {},
   "cell_type": "markdown",
   "metadata": {},
   "source": [
    "## defaultdict ##\n",
    "\n",
    "+ collections.defaultdict(type) ==> similar to dictionary with default values\n",
    "    + key is missing from mapping; default factory function (int, float, list,...) supplies a default value (zero int/float or empty iterable) ==> proceeds normally if key is encountered again\n",
    "    \n",
    "    + EG: default for int = 0; default for float = 0.0; default for list = []\n",
    "    + simpler and faster than dict.setdefault()\n",
    "\n",
    "    + can also supply any constant factory function must return a lambda which returns default value"
   ]
  },
  {
   "cell_type": "code",
   "execution_count": 83,
   "metadata": {},
   "outputs": [
    {
     "name": "stdout",
     "output_type": "stream",
     "text": [
      "missingValue\n"
     ]
    },
    {
     "data": {
      "text/plain": [
       "[('9', 'hello'), ('10', 90), ('30', 'missingValue')]"
      ]
     },
     "execution_count": 83,
     "metadata": {},
     "output_type": "execute_result"
    }
   ],
   "source": [
    "def constantFactory(value):\n",
    "    return lambda: value\n",
    "\n",
    "newDefaultDict = collections.defaultdict(constantFactory(\"missingValue\"))\n",
    "newDefaultDict[\"9\"] = \"hello\"\n",
    "newDefaultDict[\"10\"] = 90\n",
    "\n",
    "## 30 is not in dictionary ==> its value is given a default value of 0 (int)\n",
    "print(newDefaultDict[\"30\"])\n",
    "list(newDefaultDict.items())"
   ]
  },
  {
   "cell_type": "code",
   "execution_count": 81,
   "metadata": {},
   "outputs": [
    {
     "name": "stdout",
     "output_type": "stream",
     "text": [
      "dict_keys(['yellow', 'blue', 'red'])\n"
     ]
    }
   ],
   "source": [
    "sampleIterable = [('yellow', 1), ('blue', 2), ('yellow', 3), ('blue', 4), ('red', 1)]\n",
    "\n",
    "defDict = collections.defaultdict(int) \n",
    "\n",
    "for key,value in sampleIterable:\n",
    "    defDict[key] += value\n",
    "\n",
    "print(defDict.keys())"
   ]
  }
 ],
 "metadata": {
  "kernelspec": {
   "display_name": "base",
   "language": "python",
   "name": "python3"
  },
  "language_info": {
   "codemirror_mode": {
    "name": "ipython",
    "version": 3
   },
   "file_extension": ".py",
   "mimetype": "text/x-python",
   "name": "python",
   "nbconvert_exporter": "python",
   "pygments_lexer": "ipython3",
   "version": "3.9.12 (main, Apr  5 2022, 01:53:17) \n[Clang 12.0.0 ]"
  },
  "orig_nbformat": 4,
  "vscode": {
   "interpreter": {
    "hash": "fa0fc083a9a7b25dab36cbe71fb89b2f1907d4eced1698b208dea6977346b521"
   }
  }
 },
 "nbformat": 4,
 "nbformat_minor": 2
}
