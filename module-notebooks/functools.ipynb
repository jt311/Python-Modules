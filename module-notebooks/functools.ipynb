{
 "cells": [
  {
   "attachments": {},
   "cell_type": "markdown",
   "metadata": {},
   "source": [
    "# Functools Module #\n",
    "\n",
    "+ Higher Order Functions ==> functions that act on or return other functions"
   ]
  },
  {
   "cell_type": "code",
   "execution_count": 2,
   "metadata": {},
   "outputs": [],
   "source": [
    "import functools"
   ]
  },
  {
   "attachments": {},
   "cell_type": "markdown",
   "metadata": {},
   "source": [
    "## Caching ##\n",
    "### Cache Method (Memoize) ##\n",
    "\n",
    "+ functools.cache() ==> function cache that stores results + memorises function calls for faster execution in future calls\n",
    "+ recursive function call with input n ==> makes n+1 recursive calls (no previously cached results) + caches results at each call on call stack\n",
    "+ recursive function call with input k where (k < n) ==> just looks up result from cache\n",
    "+ recursive function call with input l where (l > n) ==> makes l-n new recursive calls, but n calls are already cached\n",
    "\n",
    "### LRU Cache (Least Recently Used) ###\n",
    "\n",
    "+ functools.lru_cache() ==> same functionality as functools.cache()\n",
    "    + maxsize argument ==> allows you to specify how many most recent results to save (if maxsize limit is reached, least recently used results evicted from cache)\n",
    "    + typed argument ==> True; function arguments of different types will be cached seperately (eg, 3 and 3.0 treated as distinct calls with distinct results)\n",
    "    + useful for when you want to reuse previously computed values\n",
    "    + access underlying function with functionName.__wrapped__() --> returns original function object \n",
    "    + functionName.cache_info() --> measure effectiveness of cache"
   ]
  },
  {
   "cell_type": "code",
   "execution_count": 21,
   "metadata": {},
   "outputs": [
    {
     "name": "stdout",
     "output_type": "stream",
     "text": [
      "[0, 1, 1, 2, 3, 5, 8, 13, 21, 34, 55, 89, 144, 233, 377]\n"
     ]
    },
    {
     "data": {
      "text/plain": [
       "CacheInfo(hits=26, misses=15, maxsize=10, currsize=10)"
      ]
     },
     "execution_count": 21,
     "metadata": {},
     "output_type": "execute_result"
    }
   ],
   "source": [
    "@functools.lru_cache(maxsize=10)\n",
    "def fibonacci(n):\n",
    "    if n < 2:\n",
    "        return n\n",
    "    else:\n",
    "        return fibonacci(n-1) + fibonacci(n-2)\n",
    "\n",
    "print([fibonacci(n) for n in range(15)])\n",
    "fibonacci.cache_info()"
   ]
  },
  {
   "cell_type": "code",
   "execution_count": 20,
   "metadata": {},
   "outputs": [
    {
     "data": {
      "text/plain": [
       "CacheInfo(hits=0, misses=0, maxsize=15, currsize=0)"
      ]
     },
     "execution_count": 20,
     "metadata": {},
     "output_type": "execute_result"
    }
   ],
   "source": [
    "@functools.lru_cache(maxsize=None)\n",
    "def factorial(n):\n",
    "    if n <= 1:\n",
    "        return 1\n",
    "    else:\n",
    "        return n*factorial(n-1)"
   ]
  },
  {
   "attachments": {},
   "cell_type": "markdown",
   "metadata": {},
   "source": [
    "## Total Ordering Method ##\n",
    "\n",
    "+ functools.total_ordering() ==> decorates class that defines one or more rich comparison methods (< , > __ gt __ , <= __ le __, >= __ ge __) with remaining comparison methods (class must also define __ eq __ method)\n",
    "    + Tradeoff: slower execution but faster development time"
   ]
  },
  {
   "cell_type": "code",
   "execution_count": 29,
   "metadata": {},
   "outputs": [
    {
     "name": "stdout",
     "output_type": "stream",
     "text": [
      "True\n",
      "False\n",
      "True\n",
      "False\n",
      "False\n"
     ]
    }
   ],
   "source": [
    "@functools.total_ordering\n",
    "class Number:\n",
    "    def __init__(self, num: int):\n",
    "        self.value = num\n",
    "    \n",
    "    def __lt__(self, other):\n",
    "        return self.value < other.value\n",
    "\n",
    "    def __eq__(self, other):\n",
    "        return self.value == other.value\n",
    "\n",
    "newnum = Number(6)\n",
    "secnum = Number(10)\n",
    "print(newnum.__lt__(secnum))\n",
    "print(newnum.__gt__(secnum))\n",
    "print(newnum.__le__(secnum))\n",
    "print(newnum.__ge__(secnum))\n",
    "print(newnum.__eq__(secnum))"
   ]
  },
  {
   "attachments": {},
   "cell_type": "markdown",
   "metadata": {},
   "source": [
    "## Partial Functions ##\n",
    "\n",
    "+ functools.partial() ==> returns a new partial object which when called behaves like func called with args and keywords\n",
    "    + more arguments supplied to partial object call are appended to args\n",
    "    + \"freezes\" portion of function's arguments/keywords ==> results in new object with simplified signature\n",
    "    + useful for function calls with one constant value but other arguments are changing\n",
    "\n",
    "    + Partial Objects ==> callable objects created by partial() with 3 attributes...\n",
    "        + partial.func == callable object or function (calls to partial object forwarded to func with new arguments and keywords)\n",
    "        + partial.args == leftmost positional arguments that are prepended to positional arguments provided to partial object call\n",
    "        + partial.keywords = keyword arguments supplied when partial object is called"
   ]
  },
  {
   "cell_type": "code",
   "execution_count": 35,
   "metadata": {},
   "outputs": [
    {
     "name": "stdout",
     "output_type": "stream",
     "text": [
      "5\n"
     ]
    }
   ],
   "source": [
    "def add(x: int, y: int) -> int:\n",
    "    return x + y\n",
    "\n",
    "newPartialAdd = functools.partial(add, y=3)\n",
    "print(newPartialAdd(x=2))"
   ]
  },
  {
   "attachments": {},
   "cell_type": "markdown",
   "metadata": {},
   "source": [
    "## Reduce Method ##\n",
    "\n",
    "+ functools.reduce() ==> applies function of two arguments cumulatively to items of iterable from left to right ==> reduces iterable to single cumulative value\n",
    "    + left argument, x = accumulated value\n",
    "    + right argument, y = update value from iterable\n",
    "    + initializer argument (optional) ==> placed before items of iterable in calculation (serves as a default when iterable is empty)\n",
    "    + performs function on FIRST TWO elements of iterable to generate a partial result and repeats until 1 cumulative value remains"
   ]
  },
  {
   "cell_type": "code",
   "execution_count": 44,
   "metadata": {},
   "outputs": [
    {
     "data": {
      "text/plain": [
       "'xyxxxgeifwif'"
      ]
     },
     "execution_count": 44,
     "metadata": {},
     "output_type": "execute_result"
    }
   ],
   "source": [
    "functools.reduce(lambda x,y: x+y, [\"xy\", \"xxx\", \"ge\", \"ifwif\"])\n",
    "#1 xy + xxx = xyxxx\n",
    "#2 xyxxx + ge = xyxxxge\n",
    "#3 xyxxxge + ifwif = xyxxxgeifwif"
   ]
  },
  {
   "cell_type": "code",
   "execution_count": 49,
   "metadata": {},
   "outputs": [
    {
     "data": {
      "text/plain": [
       "24"
      ]
     },
     "execution_count": 49,
     "metadata": {},
     "output_type": "execute_result"
    }
   ],
   "source": [
    "import operator\n",
    "\n",
    "def factorialReduce(n):\n",
    "    return functools.reduce(lambda x,y: operator.mul(x,y), range(1,n+1)) ## [1,2,3,4]\n",
    "\n",
    "factorialReduce(4)\n",
    "#1 [1,2,3,4] ==> 1*2 = 2\n",
    "#2 [2,3,4] ==> 2*3 = 6\n",
    "#3 [6,4] ==> 6*4 = 24\n",
    "#4 [24] ==> STOP"
   ]
  },
  {
   "attachments": {},
   "cell_type": "markdown",
   "metadata": {},
   "source": [
    "## SingleDispatch Method (Function Overloading) ##\n",
    "\n",
    "+ Generic Function ==> function composed of multiple functions implementing the same operation for different types\n",
    "+ Single Dispatch ==> form of generic function where implementation is chosen based on type of single argument\n",
    "+ @functools.singledispatch ==> decorator that transforms a function into a single dispatch generic function.\n",
    "    + @dispatchfunction.register(type) ==> adds overloaded implementations to function + generic function dispatches on type of FIRST argument\n",
    "    + EG: if first argument is INT and second argument is FLOAT ==> generic function will dispatch to INT registered method\n",
    "+ function overloading ==> functions with same name but different parameters\n",
    "+ Generic function called with type that is NOT registered ==> calls generic function\n",
    "\n",
    "+ @functools.singledispatchmethod ==> decorator that transforms a method into a single-dispatch function"
   ]
  },
  {
   "cell_type": "code",
   "execution_count": 73,
   "metadata": {},
   "outputs": [
    {
     "name": "stdout",
     "output_type": "stream",
     "text": [
      "Adding float 1.3 and 1\n"
     ]
    },
    {
     "data": {
      "text/plain": [
       "2.3"
      ]
     },
     "execution_count": 73,
     "metadata": {},
     "output_type": "execute_result"
    }
   ],
   "source": [
    "@functools.singledispatch\n",
    "def genericAdd(x,y):\n",
    "    print(f\"Executing generic function with arguments {x} and {y} of unregistered types {type(x), type(y)}\")\n",
    "\n",
    "@genericAdd.register(str)\n",
    "def demo(x,y):\n",
    "    print(f\"Adding strings {x} and {y}\")\n",
    "    return x+y\n",
    "\n",
    "@genericAdd.register(int)\n",
    "def demo(x,y):\n",
    "    print(f\"Adding int {x} and {y}\")\n",
    "    return (x+y) - (x*y)\n",
    "\n",
    "@genericAdd.register(float)\n",
    "def demo(x,y):\n",
    "    print(f\"Adding float {x} and {y}\")\n",
    "    return x+y\n",
    "\n",
    "@genericAdd.register(list)\n",
    "def demo(x,y):\n",
    "    print(f\"Adding length of {x} to length of {y}\")\n",
    "    return len(x) + len(y)\n",
    "\n",
    "genericAdd(1.3, 1)"
   ]
  },
  {
   "attachments": {},
   "cell_type": "markdown",
   "metadata": {},
   "source": [
    "## Wraps Method and Decorator Functions ##\n",
    "\n",
    "+ decorator ==> extends functionality of function without modifying existing code\n",
    "+ @functools.wraps ==> decorator that transforms wrapper function to return original function name and NOT wrapper function name when executed\n",
    "    + EG: addValues.__ name __ is \"addValues\" with @wraps decorator and is \"wrapperFunction\" without @wraps decorator\n",
    "\n",
    "+ Common Use Cases for Decorators: tracking execution time of function calls, logging"
   ]
  },
  {
   "cell_type": "code",
   "execution_count": 94,
   "metadata": {},
   "outputs": [],
   "source": [
    "import time\n",
    "import operator"
   ]
  },
  {
   "cell_type": "code",
   "execution_count": 97,
   "metadata": {},
   "outputs": [
    {
     "name": "stdout",
     "output_type": "stream",
     "text": [
      "Executing function factorialReduce with arguments (4,)\n",
      "Function factorialReduce ran in: 1.0013580322265625e-05 seconds\n"
     ]
    },
    {
     "data": {
      "text/plain": [
       "24"
      ]
     },
     "execution_count": 97,
     "metadata": {},
     "output_type": "execute_result"
    }
   ],
   "source": [
    "def decoratorFunction(func):\n",
    "\n",
    "    @functools.wraps(func)\n",
    "    def wrapperFunction(*args, **kwargs):\n",
    "        print(f\"Executing function {func.__name__} with arguments {args}\")\n",
    "        t1 = time.time()\n",
    "        currResult = func(*args, **kwargs)\n",
    "        t2 = time.time() - t1\n",
    "        print(f\"Function {func.__name__} ran in: {t2} seconds\")\n",
    "        return currResult\n",
    "\n",
    "    return wrapperFunction\n",
    "\n",
    "@decoratorFunction ## same syntax as ==> addValues = decoratorFunction(addValues)\n",
    "def addValues(x,y):\n",
    "    return x + y\n",
    "\n",
    "@decoratorFunction\n",
    "def subValues(x,y):\n",
    "    return x-y\n",
    "\n",
    "@decoratorFunction\n",
    "def factorialReduce(n):\n",
    "    return functools.reduce(lambda x,y: operator.mul(x,y), range(1,n+1))"
   ]
  }
 ],
 "metadata": {
  "kernelspec": {
   "display_name": "base",
   "language": "python",
   "name": "python3"
  },
  "language_info": {
   "codemirror_mode": {
    "name": "ipython",
    "version": 3
   },
   "file_extension": ".py",
   "mimetype": "text/x-python",
   "name": "python",
   "nbconvert_exporter": "python",
   "pygments_lexer": "ipython3",
   "version": "3.9.12"
  },
  "orig_nbformat": 4,
  "vscode": {
   "interpreter": {
    "hash": "fa0fc083a9a7b25dab36cbe71fb89b2f1907d4eced1698b208dea6977346b521"
   }
  }
 },
 "nbformat": 4,
 "nbformat_minor": 2
}
