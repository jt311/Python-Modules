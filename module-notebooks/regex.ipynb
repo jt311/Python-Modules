{
 "cells": [
  {
   "cell_type": "markdown",
   "metadata": {},
   "source": [
    "## RegEx (Regular Expressions) ##"
   ]
  },
  {
   "cell_type": "code",
   "execution_count": 1,
   "metadata": {},
   "outputs": [],
   "source": [
    "import re"
   ]
  },
  {
   "cell_type": "markdown",
   "metadata": {},
   "source": [
    "## Matching Expressions ##\n",
    "\n",
    "+ r = raw string\n",
    "+ finditer() ==> returns object of match with span method (index range of specified pattern)\n",
    "+ findall() ==> returns all instances of matched pattern\n",
    "+ match() ==> returns match of pattern at BEGINNING of string\n",
    "+ search() ==> searches through string and returns any instance of specified pattern"
   ]
  },
  {
   "cell_type": "code",
   "execution_count": 2,
   "metadata": {},
   "outputs": [],
   "source": [
    "test_string = \"38639824abc89032ABC\"\n",
    "pattern = re.compile(r\"abc\", flags=re.IGNORECASE)\n",
    "matches_iter = pattern.finditer(test_string)\n",
    "matches_find = pattern.findall(test_string)\n",
    "matches_match = pattern.match(test_string)\n",
    "matches_search = pattern.search(test_string)"
   ]
  },
  {
   "cell_type": "markdown",
   "metadata": {},
   "source": [
    "## Methods on Match Object ##\n",
    "\n",
    "+ start() ==> start index of matched pattern (inclusive)\n",
    "+ end() ==> end index of matched pattern (exclusive)\n",
    "+ span() ==> tuple of index range (start, stop) [stop is exclusive]\n",
    "+ group() ==> returns actual string of match object"
   ]
  },
  {
   "cell_type": "code",
   "execution_count": 43,
   "metadata": {},
   "outputs": [
    {
     "name": "stdout",
     "output_type": "stream",
     "text": [
      "<re.Match object; span=(8, 11), match='abc'>\n"
     ]
    },
    {
     "data": {
      "text/plain": [
       "'abc'"
      ]
     },
     "execution_count": 43,
     "metadata": {},
     "output_type": "execute_result"
    }
   ],
   "source": [
    "## print(matches_search)\n",
    "matches_search.end()\n",
    "matches_search.start()\n",
    "matches_search.span()\n",
    "matches_search.group()"
   ]
  },
  {
   "cell_type": "markdown",
   "metadata": {},
   "source": [
    "## Meta Characters ##\n",
    "\n",
    "+ '.' ==>  Any character (except newline)\n",
    "+ '^' ==> Starts with specified pattern\n",
    "+ '$' ==> Ends with specified pattern\n",
    "+ '\\x' ==> Find instance of meta character\n",
    "+ '*' ==> Zero or more occurrences\n",
    "+ '+' ==> One or more occurrences\n",
    "+ {N} ==> Exactly N occurrences\n",
    "+ '|' ==> Either or\n",
    "+ '()' ==> Capture and group\n",
    "\n",
    "## Special Characters ##\n",
    "+ '\\d' ==> Matches any decimal digit; [0-9]\n",
    "+ '\\D' ==> Matches any non-digit character\n",
    "+ '\\s' ==> Matches any whitespace character\n",
    "+ '\\S' ==> Matches any non-whitespace character\n",
    "+ '\\w' ==> Matches any alphanumeric character\n",
    "+ '\\W' ==> Matches any non-alphanumeric character\n",
    "+ '\\b' ==> Matches the specified characters at the beginning or end of a word (word boundary)\n",
    "    + '\\b\\w+' ==> captures all words\n",
    "+ '\\B' ==> Matches the specified characters; but NOT at beginning of a block"
   ]
  },
  {
   "cell_type": "code",
   "execution_count": 22,
   "metadata": {},
   "outputs": [
    {
     "name": "stdout",
     "output_type": "stream",
     "text": [
      "['hi']\n"
     ]
    }
   ],
   "source": [
    "new_test_string = \"hfiuehew.iu93293\"\n",
    "boundary_test_string = \"hihgrue ih9394-3209\"\n",
    "boundaries = re.compile(r'\\b[a-z0-9]+')\n",
    "meta_character = re.compile(r'.')\n",
    "meta_character_esc = re.compile(r'\\.')\n",
    "character_starts = re.compile(r'^hi')\n",
    "digit_characters = re.compile(r'(hf|iu)')\n",
    "digit_pattern = digit_characters.findall(new_test_string)\n",
    "boundary_pattern = character_starts.findall(boundary_test_string)\n",
    "print(boundary_pattern)"
   ]
  },
  {
   "cell_type": "markdown",
   "metadata": {},
   "source": [
    "## Quantifiers ##\n",
    "\n",
    "+ Quantify how many times a part of regular expression should be repeated\n",
    "\n",
    "+ '*': Matches pattern 0 or more\n",
    "+ '+': Matches pattern 1 or more\n",
    "+ '?': 0 or 1 -> optional character\n",
    "+ {N}: Matches an exact number\n",
    "+ {N,M}: range numbers (min, max)"
   ]
  },
  {
   "cell_type": "code",
   "execution_count": 8,
   "metadata": {},
   "outputs": [
    {
     "name": "stdout",
     "output_type": "stream",
     "text": [
      "['389', '1234', '89000']\n"
     ]
    }
   ],
   "source": [
    "quantifier_test_string = \"389_hello_1234x89000\"\n",
    "\n",
    "## Digit is repeated one or more times\n",
    "num_pattern_digit = re.compile('\\d+')\n",
    "\n",
    "## Non-Digit is repeated one or more times\n",
    "num_pattern_nondigit = re.compile('\\D+')\n",
    "\n",
    "## Non-Digit is repeated exactly 3 times\n",
    "num_range_nondigit = re.compile('\\D{3}')\n",
    "\n",
    "## Word then Digit is matched exactly 2 times\n",
    "num_pattern = re.compile('hello_\\d{2}')\n",
    "\n",
    "## Digit is repeated 1 or 2 times\n",
    "num_pattern_range = re.compile('\\d{1,2}')\n",
    "\n",
    "num_matches = num_pattern_digit.findall(quantifier_test_string)\n",
    "print(num_matches)"
   ]
  },
  {
   "cell_type": "markdown",
   "metadata": {},
   "source": [
    "## Sets & Capture Groups ##\n",
    "\n",
    "+ Returns all instances of every character inside set\n",
    "+ [a-z] ==> returns all characters from a-z\n",
    "+ [a-zA-Z] ==> returns all characters from a-z and A-Z\n",
    "+ [a-zA-Z0-9] ==> returns all characters from a-z and A-Z and 0-9"
   ]
  },
  {
   "cell_type": "code",
   "execution_count": 36,
   "metadata": {},
   "outputs": [
    {
     "name": "stdout",
     "output_type": "stream",
     "text": [
      "['Python-engineer', 'python-engineer123', 'pythonengineer']\n",
      "[]\n"
     ]
    }
   ],
   "source": [
    "test_set = \"\"\"\n",
    "Python-engineer@gmx.de\n",
    "python-engineer123@my-domain.org\n",
    "pythonengineer@gmail.com\"\"\"\n",
    "\n",
    "set_pattern = re.compile(r'[hd8i]')\n",
    "set_pattern_range = re.compile(r'[a-z]')\n",
    "set_pattern_capital = re.compile(r'([a-zA-Z0-9-]+)@([a-zA-Z-]+)\\.(com|org|de)')\n",
    "set_matches = set_pattern_capital.finditer(test_set)\n",
    "\n",
    "print([setMatch.group(0) for setMatch in set_matches])\n",
    "## print([setMatch.group(1) for setMatch in set_matches])\n",
    "## print([setMatch.group(2) for setMatch in set_matches])\n",
    "## print([setMatch.group(3) for setMatch in set_matches])"
   ]
  },
  {
   "cell_type": "markdown",
   "metadata": {},
   "source": [
    "## Modifications ##\n",
    "\n",
    "+ split() ==> splits a string at specified pattern\n",
    "+ sub() ==> replaces a string at specified pattern (can be used to replace whole pattern with specific groups)"
   ]
  },
  {
   "cell_type": "code",
   "execution_count": 42,
   "metadata": {},
   "outputs": [
    {
     "name": "stdout",
     "output_type": "stream",
     "text": [
      "320932abc93i0abc\n"
     ]
    }
   ],
   "source": [
    "modification_test_string = \"320932ddg93i0ddg\"\n",
    "pattern = re.compile(r'ddg')\n",
    "split_match = pattern.split(modification_test_string)\n",
    "sub_match = pattern.sub(\"abc\", modification_test_string)"
   ]
  },
  {
   "cell_type": "code",
   "execution_count": 54,
   "metadata": {},
   "outputs": [
    {
     "name": "stdout",
     "output_type": "stream",
     "text": [
      "['.com', '.com', '.net']\n",
      "\n",
      "python-engineer.com\n",
      "python-engineer.com\n",
      "pyeng.net\n",
      "\n"
     ]
    }
   ],
   "source": [
    "test_url = \"\"\"\n",
    "http://python-engineer.com\n",
    "https://www.python-engineer.com\n",
    "http://www.pyeng.net\n",
    "\"\"\"\n",
    "\n",
    "url_pattern = re.compile(r'https?://(w{3}\\.)?([a-zA-Z-]+)(\\.(com|net))')\n",
    "url_matches = url_pattern.finditer(test_url)\n",
    "##print([match.group(0) for match in url_matches])\n",
    "##print([match.group(1) for match in url_matches])\n",
    "##print([match.group(3) for match in url_matches])\n",
    "\n",
    "formatted_url = url_pattern.sub(r\"\\2\\3\", test_url)\n",
    "print(formatted_url)"
   ]
  },
  {
   "cell_type": "markdown",
   "metadata": {},
   "source": [
    "## Assertions ##\n",
    "\n",
    "+ (?<={str}) ==> Positive LookBehind\n",
    "+ (?<!{str}) ==> Positive LookBehind\n",
    "+ (?={str}) ==> Positive LookAhead\n",
    "+ (?!{str}) ==> Negative LookAhead (pattern that is NOT followed by str)"
   ]
  },
  {
   "cell_type": "code",
   "execution_count": 38,
   "metadata": {},
   "outputs": [
    {
     "name": "stdout",
     "output_type": "stream",
     "text": [
      "['Hello World']\n"
     ]
    }
   ],
   "source": [
    "assertion_test_string = \"1: Hello World, 2: Hello World\"\n",
    "assertion_pattern_behind = re.compile(r'(?<=1: )hello world', flags=re.IGNORECASE)\n",
    "assertion_pattern_ahead = re.compile(r'hello world(?=,)', flags=re.IGNORECASE)\n",
    "assertion_pattern_na = re.compile(r'hello world(?!,)', flags=re.IGNORECASE)\n",
    "assertion_pattern_nb = re.compile(r'(?<!1: )hello world', flags=re.IGNORECASE)\n",
    "match = assertion_pattern_nb.findall(assertion_test_string)\n",
    "print(match)"
   ]
  },
  {
   "cell_type": "code",
   "execution_count": 24,
   "metadata": {},
   "outputs": [
    {
     "name": "stdout",
     "output_type": "stream",
     "text": [
      "['Michael', 'Steve', 'Moses', 'Bob9', 'Bartholomew']\n"
     ]
    }
   ],
   "source": [
    "names_str = \"Michael~Steve-Moses Bob9 Bartholomew\"\n",
    "new_pattern = re.compile(r'\\b[a-zA-Z]+\\d?')\n",
    "match = new_pattern.findall(names_str)\n",
    "print(match)"
   ]
  }
 ],
 "metadata": {
  "kernelspec": {
   "display_name": "base",
   "language": "python",
   "name": "python3"
  },
  "language_info": {
   "codemirror_mode": {
    "name": "ipython",
    "version": 3
   },
   "file_extension": ".py",
   "mimetype": "text/x-python",
   "name": "python",
   "nbconvert_exporter": "python",
   "pygments_lexer": "ipython3",
   "version": "3.9.12"
  },
  "orig_nbformat": 4,
  "vscode": {
   "interpreter": {
    "hash": "fa0fc083a9a7b25dab36cbe71fb89b2f1907d4eced1698b208dea6977346b521"
   }
  }
 },
 "nbformat": 4,
 "nbformat_minor": 2
}
